{
 "cells": [
  {
   "cell_type": "code",
   "execution_count": 1,
   "metadata": {},
   "outputs": [
    {
     "name": "stdout",
     "output_type": "stream",
     "text": [
      "         date           campaign clicks spend\n",
      "0  2021-12-03    retageting APAC      1  2.87\n",
      "1  2021-12-03  retargeting UK&CO      0  0.03\n",
      "2  2021-12-04    retageting APAC      0  2.91\n",
      "3  2021-12-04  retargeting UK&CO      0  0.04\n"
     ]
    }
   ],
   "source": [
    "import requests\n",
    "import json\n",
    "import pandas as pd\n",
    "\n",
    "api_key = 'PUT_YOUR_API_KEY' # your windsor.ai api-key from https://onboard.windsor.ai\n",
    "\n",
    "# URL listing the fields you want to pull\n",
    "api_url = 'https://connectors.windsor.ai/facebook?date_preset=last_7d&fields=date,campaign,clicks,spend&api_key=' + api_key\n",
    "\n",
    "\n",
    "res = requests.get(api_url).json()\n",
    "df = pd.DataFrame.from_dict(res['data'])\n",
    "print(df)\n",
    "\n"
   ]
  }
 ],
 "metadata": {
  "interpreter": {
   "hash": "916dbcbb3f70747c44a77c7bcd40155683ae19c65e1c03b4aa3499c5328201f1"
  },
  "kernelspec": {
   "display_name": "Python 3.9.7 64-bit",
   "language": "python",
   "name": "python3"
  },
  "language_info": {
   "codemirror_mode": {
    "name": "ipython",
    "version": 3
   },
   "file_extension": ".py",
   "mimetype": "text/x-python",
   "name": "python",
   "nbconvert_exporter": "python",
   "pygments_lexer": "ipython3",
   "version": "3.9.7"
  },
  "orig_nbformat": 4
 },
 "nbformat": 4,
 "nbformat_minor": 2
}
